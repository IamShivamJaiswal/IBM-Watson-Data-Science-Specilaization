{
    "nbformat_minor": 1, 
    "cells": [
        {
            "source": "# Assignment 3\n\nWelcome to Assignment 3. This will be even more fun. Now we will calculate statistical measures on the test data you have created.\n\nYOU ARE NOT ALLOWED TO USE ANY OTHER 3RD PARTY LIBRARIES LIKE PANDAS. PLEASE ONLY MODIFY CONTENT INSIDE THE FUNCTION SKELETONS\nPlease read why: https://www.coursera.org/learn/exploring-visualizing-iot-data/discussions/weeks/3/threads/skjCbNgeEeapeQ5W6suLkA\n. Just make sure you hit the play button on each cell from top to down. There are seven functions you have to implement. Please also make sure than on each change on a function you hit the play button again on the corresponding cell to make it available to the rest of this notebook.\nPlease also make sure to only implement the function bodies and DON'T add any additional code outside functions since this might confuse the autograder.\n\nSo the function below is used to make it easy for you to create a data frame from a cloudant data frame using the so called \"DataSource\" which is some sort of a plugin which allows ApacheSpark to use different data sources.\n", 
            "cell_type": "markdown", 
            "metadata": {}
        }, 
        {
            "source": "All functions can be implemented using DataFrames, ApacheSparkSQL or RDDs. We are only interested in the result. You are given the reference to the data frame in the \"df\" parameter and in case you want to use SQL just use the \"spark\" parameter which is a reference to the global SparkSession object. Finally if you want to use RDDs just use \"df.rdd\" for obtaining a reference to the underlying RDD object. \n\nLet's start with the first function. Please calculate the minimal temperature for the test data set you have created. We've provided a little skeleton for you in case you want to use SQL. You can use this skeleton for all subsequent functions. Everything can be implemented using SQL only if you like.", 
            "cell_type": "markdown", 
            "metadata": {}
        }, 
        {
            "execution_count": 10, 
            "cell_type": "code", 
            "metadata": {}, 
            "outputs": [
                {
                    "execution_count": 10, 
                    "metadata": {}, 
                    "data": {
                        "text/plain": "80"
                    }, 
                    "output_type": "execute_result"
                }
            ], 
            "source": "def minTemperature(df,spark):\n#     minRow=df.agg({\"temperature\": \"min\"}).collect()[0]\n#     mintemp = minRow[\"min(temperature)\"]\n#     return mintemp\n    return spark.sql(\"SELECT min(temperature) as mintemp from washing\").first().mintemp\nminTemperature(df,spark)"
        }, 
        {
            "source": "Please now do the same for the mean of the temperature", 
            "cell_type": "markdown", 
            "metadata": {}
        }, 
        {
            "execution_count": 11, 
            "cell_type": "code", 
            "metadata": {}, 
            "outputs": [
                {
                    "execution_count": 11, 
                    "metadata": {}, 
                    "data": {
                        "text/plain": "89.64117647058823"
                    }, 
                    "output_type": "execute_result"
                }
            ], 
            "source": "def meanTemperature(df,spark):\n#     avgRow=df.agg({\"temperature\": \"avg\"}).collect()[0]\n#     avgtemp = avgRow[\"avg(temperature)\"]\n#     return avgtemp\n    return spark.sql(\"SELECT avg(temperature) as avgtemp from washing\").first().avgtemp\nmeanTemperature(df,spark)"
        }, 
        {
            "source": "Please now do the same for the maximum of the temperature", 
            "cell_type": "markdown", 
            "metadata": {}
        }, 
        {
            "execution_count": 12, 
            "cell_type": "code", 
            "metadata": {}, 
            "outputs": [
                {
                    "execution_count": 12, 
                    "metadata": {}, 
                    "data": {
                        "text/plain": "100"
                    }, 
                    "output_type": "execute_result"
                }
            ], 
            "source": "def maxTemperature(df,spark):\n#     maxRow=df.agg({\"temperature\": \"max\"}).collect()[0]\n#     maxtemp = maxRow[\"max(temperature)\"]\n#     return maxtemp\n    return spark.sql(\"SELECT max(temperature) as avgtemp from washing\").first().avgtemp\nmaxTemperature(df,spark)"
        }, 
        {
            "source": "Please now do the same for the standard deviation of the temperature", 
            "cell_type": "markdown", 
            "metadata": {}
        }, 
        {
            "execution_count": 18, 
            "cell_type": "code", 
            "metadata": {}, 
            "outputs": [
                {
                    "execution_count": 18, 
                    "metadata": {}, 
                    "data": {
                        "text/plain": "6.251679899539563"
                    }, 
                    "output_type": "execute_result"
                }
            ], 
            "source": "def sdTemperature(df,spark):\n#     temprddrow = df.select('temperature').rdd \n#     temprdd = temprddrow.map(lambda x : x[\"temperature\"]) \n#     temp = temprdd.filter(lambda x: x is not None).filter(lambda x: x != \"\") \n#     sum=temp.sum()\n#     mean =sum/float(temp.count())\n#     from math import sqrt\n#     sd=sqrt(temp.map(lambda x : pow(x-mean,2)).sum()/float(temp.count()))\n#     return sd\n    return spark.sql(\"SELECT stddev(temperature) as stddevtemp from washing where temperature is not null \").first().stddevtemp\nsdTemperature(df,spark)"
        }, 
        {
            "source": "Please now do the same for the skew of the temperature. Since the SQL statement for this is a bit more complicated we've provided a skeleton for you. You have to insert custom code at four position in order to make the function work. Alternatively you can also remove everything and implement if on your own. Note that we are making use of two previously defined functions, so please make sure they are correct. Also note that we are making use of python's string formatting capabilitis where the results of the two function calls to \"meanTemperature\" and \"sdTemperature\" are inserted at the \"%s\" symbols in the SQL string.", 
            "cell_type": "markdown", 
            "metadata": {}
        }, 
        {
            "execution_count": 5, 
            "cell_type": "code", 
            "metadata": {}, 
            "outputs": [], 
            "source": "def skewTemperature(df,spark):\n    temprddrow = df.select('temperature').rdd #in row(temp=x) format\n    temprdd = temprddrow.map(lambda x : x[\"temperature\"]) #only numbers\n    temp = temprdd.filter(lambda x: x is not None).filter(lambda x: x != \"\")  #remove None params\n    n = float(temp.count())\n    sum=temp.sum()\n    mean =sum/n\n    from math import sqrt\n    sd=sqrt(temp.map(lambda x : pow(x-mean,2)).sum()/n)\n    skew=n*(temp.map(lambda x:pow(x-mean,3)/pow(sd,3)).sum())/(float(n-1)*float(n-2))\n    return skew \n#     return spark.sql(\"\"\"\n# SELECT \n#     (\n#         count(*)/((count(*)-1)*(count(*)-2))\n#     ) *\n#     SUM (\n#         POWER(temperature-%s,3)/POWER(%s,3)\n#     )\n\n# as skewtemp from washing\n#                     \"\"\" %(meanTemperature(df,spark),sdTemperature(df,spark))).first().skewtemp##INSERT YOUR CODE HERE##"
        }, 
        {
            "source": "Kurtosis is the 4th statistical moment, so if you are smart you can make use of the code for skew which is the 3rd statistical moment. Actually only two things are different.", 
            "cell_type": "markdown", 
            "metadata": {}
        }, 
        {
            "execution_count": 6, 
            "cell_type": "code", 
            "metadata": {}, 
            "outputs": [], 
            "source": "def kurtosisTemperature(df,spark):    \n    temprddrow = df.select('temperature').rdd\n    temprdd = temprddrow.map(lambda x : x[\"temperature\"])\n    temp = temprdd.filter(lambda x: x is not None).filter(lambda x: x != \"\")\n    n = float(temp.count())\n    sum=temp.sum()\n    mean =sum/n\n    from math import sqrt\n    sd=sqrt(temp.map(lambda x : pow(x-mean,2)).sum()/n)\n    kurtosis=temp.map(lambda x:pow(x-mean,4)).sum()/(pow(sd,4)*(n))\n    return kurtosis"
        }, 
        {
            "source": "Just a hint. This can be solved easily using SQL as well, but as shown in the lecture also using RDDs.", 
            "cell_type": "markdown", 
            "metadata": {}
        }, 
        {
            "execution_count": 8, 
            "cell_type": "code", 
            "metadata": {}, 
            "outputs": [], 
            "source": "def correlationTemperatureHardness(df,spark):\n    temprddrow = df.select('temperature').rdd\n    temprdd = temprddrow.map(lambda x : x[\"temperature\"])\n    temp = temprdd.filter(lambda x: x is not None).filter(lambda x: x != \"\")\n    hardrddrow = df.select('hardness').rdd\n    hardrdd = hardrddrow.map(lambda x : x[\"hardness\"])\n    hard = hardrdd.filter(lambda x: x is not None).filter(lambda x: x != \"\")\n    n = float(temp.count())\n    sumt=temp.sum()\n    sumh=hard.sum()\n    meant =sumt/n\n    meanh = sumh/n\n    rdd12 = temp.zip(hard)\n    cov12 = rdd12.map(lambda (x,y) : (x-meant)*(y-meanh)).sum()/n\n    from math import sqrt\n    sd1 = sqrt(temp.map(lambda x : pow(x-meant,2)).sum()/n)\n    sd2 = sqrt(hard.map(lambda x : pow(x-meanh,2)).sum()/n)\n    corr12 = cov12 / (sd1 * sd2)\n    return corr12"
        }, 
        {
            "source": "### PLEASE DON'T REMOVE THIS BLOCK - THE FOLLOWING CODE IS NOT GRADED\n#axx\n### PLEASE DON'T REMOVE THIS BLOCK - THE FOLLOWING CODE IS NOT GRADED", 
            "cell_type": "markdown", 
            "metadata": {}
        }, 
        {
            "source": "Now it is time to connect to the cloudant database. Please have a look at the Video \"Overview of end-to-end scenario\" of Week 2 starting from 6:40 in order to learn how to obtain the credentials for the database. Please paste this credentials as strings into the below code\n\n### TODO Please provide your Cloudant credentials here", 
            "cell_type": "markdown", 
            "metadata": {}
        }, 
        {
            "execution_count": 4, 
            "cell_type": "code", 
            "metadata": {}, 
            "outputs": [], 
            "source": "### TODO Please provide your Cloudant credentials here by creating a connection to Cloudant and insert the code\n### Please have a look at the latest video \"Connect to Cloudant/CouchDB from ApacheSpark in Watson Studio\" on https://www.youtube.com/c/RomeoKienzler\ndatabase = \"washing\" #as long as you didn't change this in the NodeRED flow the database name stays the same\n"
        }, 
        {
            "execution_count": 5, 
            "cell_type": "code", 
            "metadata": {}, 
            "outputs": [], 
            "source": "# The code was removed by Watson Studio for sharing."
        }, 
        {
            "execution_count": 6, 
            "cell_type": "code", 
            "metadata": {}, 
            "outputs": [], 
            "source": "#Please don't modify this function\ndef readDataFrameFromCloudant(database):\n    cloudantdata=spark.read.load(database, \"com.cloudant.spark\")\n\n    cloudantdata.createOrReplaceTempView(\"washing\")\n    spark.sql(\"SELECT * from washing\").show()\n    return cloudantdata"
        }, 
        {
            "execution_count": 7, 
            "cell_type": "code", 
            "metadata": {}, 
            "outputs": [], 
            "source": "spark = SparkSession\\\n    .builder\\\n    .appName(\"Cloudant Spark SQL Example in Python using temp tables\")\\\n    .config(\"cloudant.host\",credentials_1['custom_url'].split(':')[2].split('@')[1])\\\n    .config(\"cloudant.username\", credentials_1['username'])\\\n    .config(\"cloudant.password\",credentials_1['password'])\\\n    .config(\"jsonstore.rdd.partitions\", 1)\\\n    .getOrCreate()\n"
        }, 
        {
            "execution_count": 8, 
            "cell_type": "code", 
            "metadata": {}, 
            "outputs": [
                {
                    "output_type": "stream", 
                    "name": "stdout", 
                    "text": "+--------------------+--------------------+-----+--------+----------+---------+--------+-----+-----------+-------------+-------+\n|                 _id|                _rev|count|flowrate|fluidlevel|frequency|hardness|speed|temperature|           ts|voltage|\n+--------------------+--------------------+-----+--------+----------+---------+--------+-----+-----------+-------------+-------+\n|108f87b10360791ce...|1-9cef0b0d09965a7...|   43|    null|      null|       75|    null| null|       null|1545461211070|    220|\n|108f87b10360791ce...|1-6bc3d85cdb17d87...|  135|      11|acceptable|     null|     170| null|         96|1545461217356|   null|\n|108f87b10360791ce...|1-9be60c583263fe8...|  142|      11|acceptable|     null|      72| null|         87|1545461224378|   null|\n|108f87b10360791ce...|1-e8112377c8eaa73...|   49|    null|      null|       64|    null| null|       null|1545461229084|    238|\n|108f87b10360791ce...|1-ffa12d3c0c88073...|  153|      11|acceptable|     null|      79| null|         99|1545461235425|   null|\n|108f87b10360791ce...|1-15848c11289b773...|  163|      11|acceptable|     null|      71| null|         82|1545461245457|   null|\n|108f87b10360791ce...|1-9dd03635a3f56a1...|  170|      11|acceptable|     null|      71| null|         82|1545461252480|   null|\n|108f87b10360791ce...|1-34f9ff684702556...|  177|      11|acceptable|     null|      78| null|         82|1545461259496|   null|\n|108f87b10360791ce...|1-c900797ef0c3ab1...|  185|      11|acceptable|     null|      80| null|         87|1545461267527|   null|\n|108f87b10360791ce...|1-d3250208309adad...|  192|      11|acceptable|     null|      76| null|         91|1545461274546|   null|\n|108f87b10360791ce...|1-dfaadea8407c906...|  204|      11|acceptable|     null|      71| null|         82|1545461286589|   null|\n|108f87b10360791ce...|1-58bc80df84df241...|  209|      11|acceptable|     null|      74| null|         92|1545461291604|   null|\n|108f87b10360791ce...|1-7b72f2d5b1fece2...|   43|    null|      null|     null|    null| 1075|       null|1545461297058|   null|\n|108f87b10360791ce...|1-f8f943b1e14e0f8...|  220|      11|acceptable|     null|      79| null|         88|1545461302644|   null|\n|108f87b10360791ce...|1-0e2863b0ecb6850...|   76|    null|      null|       61|    null| null|       null|1545461310172|    236|\n|108f87b10360791ce...|1-e4a44353bd3bff8...|  235|      11|acceptable|     null|      79| null|        100|1545461317688|   null|\n|108f87b10360791ce...|1-de1454e4fad001d...|   81|    null|      null|       73|    null| null|       null|1545461325180|    232|\n|108f87b10360791ce...|1-6f988c519b18c29...|  249|      11|acceptable|     null|     135| null|         80|1545461331734|   null|\n|108f87b10360791ce...|1-0587fbffdd72957...|   85|    null|      null|       80|    null| null|       null|1545461337194|    239|\n|108f87b10360791ce...|1-6d7f85f9c5e3804...|  261|      11|acceptable|     null|      79| null|        100|1545461343778|   null|\n+--------------------+--------------------+-----+--------+----------+---------+--------+-----+-----------+-------------+-------+\nonly showing top 20 rows\n\n"
                }
            ], 
            "source": "df=readDataFrameFromCloudant(database)"
        }, 
        {
            "execution_count": 14, 
            "cell_type": "code", 
            "metadata": {}, 
            "outputs": [
                {
                    "execution_count": 14, 
                    "metadata": {}, 
                    "data": {
                        "text/plain": "80"
                    }, 
                    "output_type": "execute_result"
                }
            ], 
            "source": "minTemperature(df,spark)"
        }, 
        {
            "execution_count": 15, 
            "cell_type": "code", 
            "metadata": {}, 
            "outputs": [
                {
                    "execution_count": 15, 
                    "metadata": {}, 
                    "data": {
                        "text/plain": "89.64117647058823"
                    }, 
                    "output_type": "execute_result"
                }
            ], 
            "source": "meanTemperature(df,spark)"
        }, 
        {
            "execution_count": 16, 
            "cell_type": "code", 
            "metadata": {}, 
            "outputs": [
                {
                    "execution_count": 16, 
                    "metadata": {}, 
                    "data": {
                        "text/plain": "100"
                    }, 
                    "output_type": "execute_result"
                }
            ], 
            "source": "maxTemperature(df,spark)"
        }, 
        {
            "execution_count": 17, 
            "cell_type": "code", 
            "metadata": {}, 
            "outputs": [
                {
                    "execution_count": 17, 
                    "metadata": {}, 
                    "data": {
                        "text/plain": "6.233265485755998"
                    }, 
                    "output_type": "execute_result"
                }
            ], 
            "source": "sdTemperature(df,spark)"
        }, 
        {
            "execution_count": 18, 
            "cell_type": "code", 
            "metadata": {}, 
            "outputs": [
                {
                    "execution_count": 18, 
                    "metadata": {}, 
                    "data": {
                        "text/plain": "0.11306109928280728"
                    }, 
                    "output_type": "execute_result"
                }
            ], 
            "source": "skewTemperature(df,spark)"
        }, 
        {
            "execution_count": 19, 
            "cell_type": "code", 
            "metadata": {}, 
            "outputs": [
                {
                    "execution_count": 19, 
                    "metadata": {}, 
                    "data": {
                        "text/plain": "1.7869502076020232"
                    }, 
                    "output_type": "execute_result"
                }
            ], 
            "source": "kurtosisTemperature(df,spark)"
        }, 
        {
            "execution_count": 20, 
            "cell_type": "code", 
            "metadata": {}, 
            "outputs": [
                {
                    "execution_count": 20, 
                    "metadata": {}, 
                    "data": {
                        "text/plain": "-0.023337291886375375"
                    }, 
                    "output_type": "execute_result"
                }
            ], 
            "source": "correlationTemperatureHardness(df,spark)"
        }, 
        {
            "source": "Congratulations, you are done, please download this notebook as python file using the export function and submit is to the gader using the filename \"assignment3.1.py\"", 
            "cell_type": "markdown", 
            "metadata": {}
        }
    ], 
    "metadata": {
        "kernelspec": {
            "display_name": "Python 2 with Spark 2.1", 
            "name": "python2-spark21", 
            "language": "python"
        }, 
        "language_info": {
            "mimetype": "text/x-python", 
            "nbconvert_exporter": "python", 
            "version": "2.7.14", 
            "name": "python", 
            "file_extension": ".py", 
            "pygments_lexer": "ipython2", 
            "codemirror_mode": {
                "version": 2, 
                "name": "ipython"
            }
        }
    }, 
    "nbformat": 4
}